{
 "cells": [
  {
   "cell_type": "code",
   "execution_count": 6,
   "metadata": {},
   "outputs": [],
   "source": [
    "# Use Shift + Enter to run cell\n",
    "import zipfile\n",
    "import pandas as pd"
   ]
  },
  {
   "cell_type": "code",
   "execution_count": 5,
   "metadata": {},
   "outputs": [],
   "source": [
    "with zipfile.ZipFile('armenian-online-job-postings.zip', 'r') as myzip:\n",
    "    myzip.extractall()"
   ]
  },
  {
   "cell_type": "code",
   "execution_count": 7,
   "metadata": {},
   "outputs": [],
   "source": [
    "# Read CSV into DataFrame. Use Shift + Tab to see Signature\n",
    "df = pd.read_csv('online-job-postings.csv', sep = ',')"
   ]
  },
  {
   "cell_type": "code",
   "execution_count": 21,
   "metadata": {},
   "outputs": [
    {
     "data": {
      "text/plain": [
       "2012    2149\n",
       "2015    2009\n",
       "2013    2009\n",
       "2014    1983\n",
       "2008    1785\n",
       "2011    1697\n",
       "2007    1538\n",
       "2010    1511\n",
       "2009    1191\n",
       "2005    1138\n",
       "2006    1116\n",
       "2004     875\n",
       "Name: Year, dtype: int64"
      ]
     },
     "execution_count": 21,
     "metadata": {},
     "output_type": "execute_result"
    }
   ],
   "source": [
    "df['Year'].value_counts()\n",
    "#df.head()\n",
    "#df.info()"
   ]
  },
  {
   "cell_type": "markdown",
   "metadata": {},
   "source": [
    "# Data quality issues \n",
    "- NaN in panda means Not a Number \n",
    "- different ways of expressing the same meaning \n",
    "- non-discriptive column headers"
   ]
  },
  {
   "cell_type": "code",
   "execution_count": 22,
   "metadata": {},
   "outputs": [],
   "source": [
    "df_clean = df.copy()"
   ]
  },
  {
   "cell_type": "markdown",
   "metadata": {},
   "source": [
    "- make a copy of the dataframe df, named as df_clean"
   ]
  },
  {
   "cell_type": "code",
   "execution_count": 23,
   "metadata": {},
   "outputs": [],
   "source": [
    "df_clean = df_clean.rename(columns = {'ApplicationP' : 'ApplicationProcedure', \n",
    "                                      'AboutC' : 'AboutCompany', \n",
    "                                      'RequiredQual' : 'RequiredQualifications', \n",
    "                                      'JobRequirment' : 'JobRequirement'})"
   ]
  },
  {
   "cell_type": "code",
   "execution_count": 24,
   "metadata": {},
   "outputs": [
    {
     "name": "stdout",
     "output_type": "stream",
     "text": [
      "<class 'pandas.core.frame.DataFrame'>\n",
      "RangeIndex: 19001 entries, 0 to 19000\n",
      "Data columns (total 24 columns):\n",
      "jobpost                   19001 non-null object\n",
      "date                      19001 non-null object\n",
      "Title                     18973 non-null object\n",
      "Company                   18994 non-null object\n",
      "AnnouncementCode          1208 non-null object\n",
      "Term                      7676 non-null object\n",
      "Eligibility               4930 non-null object\n",
      "Audience                  640 non-null object\n",
      "StartDate                 9675 non-null object\n",
      "Duration                  10798 non-null object\n",
      "Location                  18969 non-null object\n",
      "JobDescription            15109 non-null object\n",
      "JobRequirement            16479 non-null object\n",
      "RequiredQualifications    18517 non-null object\n",
      "Salary                    9622 non-null object\n",
      "ApplicationProcedure      18941 non-null object\n",
      "OpeningDate               18295 non-null object\n",
      "Deadline                  18936 non-null object\n",
      "Notes                     2211 non-null object\n",
      "AboutCompany              12470 non-null object\n",
      "Attach                    1559 non-null object\n",
      "Year                      19001 non-null int64\n",
      "Month                     19001 non-null int64\n",
      "IT                        19001 non-null bool\n",
      "dtypes: bool(1), int64(2), object(21)\n",
      "memory usage: 3.4+ MB\n"
     ]
    }
   ],
   "source": [
    "df_clean.info()"
   ]
  },
  {
   "cell_type": "code",
   "execution_count": null,
   "metadata": {},
   "outputs": [],
   "source": []
  }
 ],
 "metadata": {
  "kernelspec": {
   "display_name": "Python 3",
   "language": "python",
   "name": "python3"
  },
  "language_info": {
   "codemirror_mode": {
    "name": "ipython",
    "version": 3
   },
   "file_extension": ".py",
   "mimetype": "text/x-python",
   "name": "python",
   "nbconvert_exporter": "python",
   "pygments_lexer": "ipython3",
   "version": "3.6.5"
  }
 },
 "nbformat": 4,
 "nbformat_minor": 2
}
